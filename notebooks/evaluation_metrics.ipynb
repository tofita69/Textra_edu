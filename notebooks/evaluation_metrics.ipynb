{
 "cells": [
  {
   "cell_type": "code",
   "execution_count": 1,
   "metadata": {},
   "outputs": [],
   "source": [
    "from sentence_transformers import SentenceTransformer, util\n",
    "import pandas as pd"
   ]
  },
  {
   "cell_type": "code",
   "execution_count": 2,
   "metadata": {},
   "outputs": [],
   "source": [
    "df = pd.read_csv('/home/yassine/Textra-edu/merged.csv')\n"
   ]
  },
  {
   "cell_type": "code",
   "execution_count": 3,
   "metadata": {},
   "outputs": [],
   "source": [
    "model = SentenceTransformer('all-MiniLM-L6-v2')"
   ]
  },
  {
   "cell_type": "code",
   "execution_count": 4,
   "metadata": {},
   "outputs": [
    {
     "name": "stdout",
     "output_type": "stream",
     "text": [
      "Semantic similarity scores added.\n"
     ]
    }
   ],
   "source": [
    "similarity_scores = []\n",
    "\n",
    "for i, row in df.iterrows():\n",
    "    original_text = row['Original Text Chunk']\n",
    "    summary = row['Summary']\n",
    "    embeddings = model.encode([original_text, summary])\n",
    "    similarity = util.cos_sim(embeddings[0], embeddings[1]).item()\n",
    "    similarity_scores.append(similarity)\n",
    "\n",
    "df['Semantic Similarity'] = similarity_scores   \n",
    "\n",
    "#df.to_csv('/home/yassine/Textra-edu/summarization_with_similarity.csv', index=False)\n",
    "\n",
    "print(\"Semantic similarity scores added.\")"
   ]
  },
  {
   "cell_type": "code",
   "execution_count": 5,
   "metadata": {},
   "outputs": [
    {
     "data": {
      "text/html": [
       "<div>\n",
       "<style scoped>\n",
       "    .dataframe tbody tr th:only-of-type {\n",
       "        vertical-align: middle;\n",
       "    }\n",
       "\n",
       "    .dataframe tbody tr th {\n",
       "        vertical-align: top;\n",
       "    }\n",
       "\n",
       "    .dataframe thead th {\n",
       "        text-align: right;\n",
       "    }\n",
       "</style>\n",
       "<table border=\"1\" class=\"dataframe\">\n",
       "  <thead>\n",
       "    <tr style=\"text-align: right;\">\n",
       "      <th></th>\n",
       "      <th>Chunk Number</th>\n",
       "      <th>Original Text Chunk</th>\n",
       "      <th>Summary</th>\n",
       "      <th>Source File</th>\n",
       "      <th>Semantic Similarity</th>\n",
       "    </tr>\n",
       "  </thead>\n",
       "  <tbody>\n",
       "    <tr>\n",
       "      <th>0</th>\n",
       "      <td>1</td>\n",
       "      <td>HAL open science Open-Loop Control System for ...</td>\n",
       "      <td>This video is part of the HAL Open Science pro...</td>\n",
       "      <td>summarized_PIMM_JME_2024_HASCOET.csv</td>\n",
       "      <td>0.139586</td>\n",
       "    </tr>\n",
       "    <tr>\n",
       "      <th>1</th>\n",
       "      <td>2</td>\n",
       "      <td>Javier Arduengo, Nicolas Hascoet, Francisco Ch...</td>\n",
       "      <td>Open-Loop Control System for High Precision Ex...</td>\n",
       "      <td>summarized_PIMM_JME_2024_HASCOET.csv</td>\n",
       "      <td>0.879812</td>\n",
       "    </tr>\n",
       "    <tr>\n",
       "      <th>2</th>\n",
       "      <td>3</td>\n",
       "      <td>HAL Id: hal-04675399 https/halsclence/hal-0467...</td>\n",
       "      <td>The Historical Archive of France (HAL) is a</td>\n",
       "      <td>summarized_PIMM_JME_2024_HASCOET.csv</td>\n",
       "      <td>0.509045</td>\n",
       "    </tr>\n",
       "    <tr>\n",
       "      <th>3</th>\n",
       "      <td>4</td>\n",
       "      <td>archive for the deposit and dissemination of s...</td>\n",
       "      <td>The aim of this project is to make available t...</td>\n",
       "      <td>summarized_PIMM_JME_2024_HASCOET.csv</td>\n",
       "      <td>0.514269</td>\n",
       "    </tr>\n",
       "    <tr>\n",
       "      <th>4</th>\n",
       "      <td>5</td>\n",
       "      <td>Journal ofMachine Engineering, 2024, Vol. 24, ...</td>\n",
       "      <td>A new method for 3D bioprinting has been devel...</td>\n",
       "      <td>summarized_PIMM_JME_2024_HASCOET.csv</td>\n",
       "      <td>0.721535</td>\n",
       "    </tr>\n",
       "  </tbody>\n",
       "</table>\n",
       "</div>"
      ],
      "text/plain": [
       "   Chunk Number                                Original Text Chunk  \\\n",
       "0             1  HAL open science Open-Loop Control System for ...   \n",
       "1             2  Javier Arduengo, Nicolas Hascoet, Francisco Ch...   \n",
       "2             3  HAL Id: hal-04675399 https/halsclence/hal-0467...   \n",
       "3             4  archive for the deposit and dissemination of s...   \n",
       "4             5  Journal ofMachine Engineering, 2024, Vol. 24, ...   \n",
       "\n",
       "                                             Summary  \\\n",
       "0  This video is part of the HAL Open Science pro...   \n",
       "1  Open-Loop Control System for High Precision Ex...   \n",
       "2        The Historical Archive of France (HAL) is a   \n",
       "3  The aim of this project is to make available t...   \n",
       "4  A new method for 3D bioprinting has been devel...   \n",
       "\n",
       "                            Source File  Semantic Similarity  \n",
       "0  summarized_PIMM_JME_2024_HASCOET.csv             0.139586  \n",
       "1  summarized_PIMM_JME_2024_HASCOET.csv             0.879812  \n",
       "2  summarized_PIMM_JME_2024_HASCOET.csv             0.509045  \n",
       "3  summarized_PIMM_JME_2024_HASCOET.csv             0.514269  \n",
       "4  summarized_PIMM_JME_2024_HASCOET.csv             0.721535  "
      ]
     },
     "execution_count": 5,
     "metadata": {},
     "output_type": "execute_result"
    }
   ],
   "source": [
    "df.head()"
   ]
  },
  {
   "cell_type": "code",
   "execution_count": 6,
   "metadata": {},
   "outputs": [],
   "source": [
    "def analyze_scores(csv_path, score_column): \n",
    "    df = pd.read_csv(csv_path)\n",
    "\n",
    "    if score_column not in df.columns:\n",
    "        raise ValueError(f\"Column '{score_column}' not found in the csv \")\n",
    "    \n",
    "    score_ranges = {\n",
    "        \"Below 50% \": 0,\n",
    "        \"50% to 70%\": 0,\n",
    "        \"Above 70%\": 0\n",
    "    }\n",
    "\n",
    "    for score in df[score_column]:\n",
    "        if score < 0.5:\n",
    "            score_ranges[\"Below 50% \"] += 1\n",
    "        elif 0.5 <= score <= 0.7:\n",
    "            score_ranges[\"50% to 70%\"] += 1\n",
    "        elif score > 0.7:\n",
    "            score_ranges[\"Above 70%\"] += 1\n",
    "\n",
    "    print(\"Score Analysis :\")        \n",
    "    for category, count in score_ranges.items():\n",
    "        print(f\"{category}:{count}\")\n",
    "\n",
    "    return score_ranges    "
   ]
  },
  {
   "cell_type": "code",
   "execution_count": 7,
   "metadata": {},
   "outputs": [
    {
     "name": "stdout",
     "output_type": "stream",
     "text": [
      "Score Analysis :\n",
      "Below 50% :1672\n",
      "50% to 70%:899\n",
      "Above 70%:607\n"
     ]
    },
    {
     "data": {
      "text/plain": [
       "{'Below 50% ': 1672, '50% to 70%': 899, 'Above 70%': 607}"
      ]
     },
     "execution_count": 7,
     "metadata": {},
     "output_type": "execute_result"
    }
   ],
   "source": [
    "analyze_scores(\"/home/yassine/Textra-edu/summarization_with_similarity.csv\",\"Semantic Similarity\")"
   ]
  },
  {
   "cell_type": "markdown",
   "metadata": {},
   "source": [
    "# Compression Ratio "
   ]
  },
  {
   "cell_type": "code",
   "execution_count": 8,
   "metadata": {},
   "outputs": [],
   "source": [
    "import pandas as pd \n",
    "\n",
    "def calculate_compression_ratio(csv_path, output_path):\n",
    "\n",
    "    df = pd.read_csv(csv_path)\n",
    "    # Check for missing values\n",
    "    print(df[['Summary', 'Original Text Chunk']].isnull().sum())\n",
    "\n",
    "    # Fill missing values with a default string or handle them\n",
    "    df['Summary'] = df['Summary'].fillna('')\n",
    "    df['Original Text Chunk'] = df['Original Text Chunk'].fillna('')\n",
    "\n",
    "    df['Compression Ratio'] = df['Summary'].str.len()/ df['Original Text Chunk'].str.len()\n",
    "\n",
    "    #df.to_csv(output_path, index=False)\n",
    "    \n",
    "    print(\"Compression Ratio added to csv.\")\n",
    "    return df\n",
    "    "
   ]
  },
  {
   "cell_type": "code",
   "execution_count": 9,
   "metadata": {},
   "outputs": [
    {
     "name": "stdout",
     "output_type": "stream",
     "text": [
      "Summary                0\n",
      "Original Text Chunk    0\n",
      "dtype: int64\n",
      "Compression Ratio added to csv.\n"
     ]
    }
   ],
   "source": [
    "df = calculate_compression_ratio(\n",
    "    csv_path='/home/yassine/Textra-edu/summarization_with_similarity.csv',  # Ensure this is a valid string path\n",
    "    output_path='/home/yassine/Textra-edu/summarization_with_compression.csv'\n",
    ")"
   ]
  },
  {
   "cell_type": "code",
   "execution_count": 10,
   "metadata": {},
   "outputs": [
    {
     "data": {
      "text/html": [
       "<div>\n",
       "<style scoped>\n",
       "    .dataframe tbody tr th:only-of-type {\n",
       "        vertical-align: middle;\n",
       "    }\n",
       "\n",
       "    .dataframe tbody tr th {\n",
       "        vertical-align: top;\n",
       "    }\n",
       "\n",
       "    .dataframe thead th {\n",
       "        text-align: right;\n",
       "    }\n",
       "</style>\n",
       "<table border=\"1\" class=\"dataframe\">\n",
       "  <thead>\n",
       "    <tr style=\"text-align: right;\">\n",
       "      <th></th>\n",
       "      <th>Chunk Number</th>\n",
       "      <th>Original Text Chunk</th>\n",
       "      <th>Summary</th>\n",
       "      <th>Source File</th>\n",
       "      <th>Semantic Similarity</th>\n",
       "      <th>Compression Ratio</th>\n",
       "    </tr>\n",
       "  </thead>\n",
       "  <tbody>\n",
       "    <tr>\n",
       "      <th>0</th>\n",
       "      <td>1</td>\n",
       "      <td>HAL open science Open-Loop Control System for ...</td>\n",
       "      <td>This video is part of the HAL Open Science pro...</td>\n",
       "      <td>summarized_PIMM_JME_2024_HASCOET.csv</td>\n",
       "      <td>0.139586</td>\n",
       "      <td>0.426230</td>\n",
       "    </tr>\n",
       "    <tr>\n",
       "      <th>1</th>\n",
       "      <td>2</td>\n",
       "      <td>Javier Arduengo, Nicolas Hascoet, Francisco Ch...</td>\n",
       "      <td>Open-Loop Control System for High Precision Ex...</td>\n",
       "      <td>summarized_PIMM_JME_2024_HASCOET.csv</td>\n",
       "      <td>0.879812</td>\n",
       "      <td>0.290411</td>\n",
       "    </tr>\n",
       "    <tr>\n",
       "      <th>2</th>\n",
       "      <td>3</td>\n",
       "      <td>HAL Id: hal-04675399 https/halsclence/hal-0467...</td>\n",
       "      <td>The Historical Archive of France (HAL) is a</td>\n",
       "      <td>summarized_PIMM_JME_2024_HASCOET.csv</td>\n",
       "      <td>0.509045</td>\n",
       "      <td>0.265432</td>\n",
       "    </tr>\n",
       "    <tr>\n",
       "      <th>3</th>\n",
       "      <td>4</td>\n",
       "      <td>archive for the deposit and dissemination of s...</td>\n",
       "      <td>The aim of this project is to make available t...</td>\n",
       "      <td>summarized_PIMM_JME_2024_HASCOET.csv</td>\n",
       "      <td>0.514269</td>\n",
       "      <td>0.361656</td>\n",
       "    </tr>\n",
       "    <tr>\n",
       "      <th>4</th>\n",
       "      <td>5</td>\n",
       "      <td>Journal ofMachine Engineering, 2024, Vol. 24, ...</td>\n",
       "      <td>A new method for 3D bioprinting has been devel...</td>\n",
       "      <td>summarized_PIMM_JME_2024_HASCOET.csv</td>\n",
       "      <td>0.721535</td>\n",
       "      <td>0.204000</td>\n",
       "    </tr>\n",
       "  </tbody>\n",
       "</table>\n",
       "</div>"
      ],
      "text/plain": [
       "   Chunk Number                                Original Text Chunk  \\\n",
       "0             1  HAL open science Open-Loop Control System for ...   \n",
       "1             2  Javier Arduengo, Nicolas Hascoet, Francisco Ch...   \n",
       "2             3  HAL Id: hal-04675399 https/halsclence/hal-0467...   \n",
       "3             4  archive for the deposit and dissemination of s...   \n",
       "4             5  Journal ofMachine Engineering, 2024, Vol. 24, ...   \n",
       "\n",
       "                                             Summary  \\\n",
       "0  This video is part of the HAL Open Science pro...   \n",
       "1  Open-Loop Control System for High Precision Ex...   \n",
       "2        The Historical Archive of France (HAL) is a   \n",
       "3  The aim of this project is to make available t...   \n",
       "4  A new method for 3D bioprinting has been devel...   \n",
       "\n",
       "                            Source File  Semantic Similarity  \\\n",
       "0  summarized_PIMM_JME_2024_HASCOET.csv             0.139586   \n",
       "1  summarized_PIMM_JME_2024_HASCOET.csv             0.879812   \n",
       "2  summarized_PIMM_JME_2024_HASCOET.csv             0.509045   \n",
       "3  summarized_PIMM_JME_2024_HASCOET.csv             0.514269   \n",
       "4  summarized_PIMM_JME_2024_HASCOET.csv             0.721535   \n",
       "\n",
       "   Compression Ratio  \n",
       "0           0.426230  \n",
       "1           0.290411  \n",
       "2           0.265432  \n",
       "3           0.361656  \n",
       "4           0.204000  "
      ]
     },
     "execution_count": 10,
     "metadata": {},
     "output_type": "execute_result"
    }
   ],
   "source": [
    "df.head()"
   ]
  },
  {
   "cell_type": "markdown",
   "metadata": {},
   "source": [
    "# Coverage using KeyBERT"
   ]
  },
  {
   "cell_type": "code",
   "execution_count": 12,
   "metadata": {},
   "outputs": [],
   "source": [
    "from keybert import KeyBERT\n",
    "\n",
    "def calculate_coverage(original_text, summary):\n",
    "\n",
    "    model = KeyBERT()\n",
    "    original_keywords = [kw[0] for kw in model.extract_keywords(original_text, top_n=5)]\n",
    "    summary_keywords = [kw[0] for kw in model.extract_keywords(summary, top_n=5)]\n",
    "    common_keywords = set(original_keywords) & set(summary_keywords)\n",
    "    return len(common_keywords) / len(original_keywords) if original_keywords else 0\n",
    "\n",
    "def add_coverage_metric(csv_path, output_path):\n",
    "    df = pd.read_csv(csv_path)\n",
    "    coverage_scores = []\n",
    "    for _, row in df.iterrows():\n",
    "        coverage = calculate_coverage(row['Original Text Chunk'], row['Summary'])\n",
    "        coverage_scores.append(coverage)\n",
    "    df['Coverage'] = coverage_scores\n",
    "    #df.to_csv(output_path, index=False)\n",
    "    print(\"Coverage Metric added to CSV.\")\n",
    "    return df\n"
   ]
  },
  {
   "cell_type": "code",
   "execution_count": 13,
   "metadata": {},
   "outputs": [
    {
     "name": "stdout",
     "output_type": "stream",
     "text": [
      "Coverage Metric added to CSV.\n"
     ]
    }
   ],
   "source": [
    "df = add_coverage_metric(\n",
    "        csv_path='/home/yassine/Textra-edu/summarization_with_compression.csv',\n",
    "        output_path='/home/yassine/Textra-edu/summarization_with_coverage.csv'\n",
    ")"
   ]
  },
  {
   "cell_type": "code",
   "execution_count": 14,
   "metadata": {},
   "outputs": [
    {
     "data": {
      "text/html": [
       "<div>\n",
       "<style scoped>\n",
       "    .dataframe tbody tr th:only-of-type {\n",
       "        vertical-align: middle;\n",
       "    }\n",
       "\n",
       "    .dataframe tbody tr th {\n",
       "        vertical-align: top;\n",
       "    }\n",
       "\n",
       "    .dataframe thead th {\n",
       "        text-align: right;\n",
       "    }\n",
       "</style>\n",
       "<table border=\"1\" class=\"dataframe\">\n",
       "  <thead>\n",
       "    <tr style=\"text-align: right;\">\n",
       "      <th></th>\n",
       "      <th>Chunk Number</th>\n",
       "      <th>Original Text Chunk</th>\n",
       "      <th>Summary</th>\n",
       "      <th>Source File</th>\n",
       "      <th>Semantic Similarity</th>\n",
       "      <th>Compression Ratio</th>\n",
       "      <th>Coverage</th>\n",
       "    </tr>\n",
       "  </thead>\n",
       "  <tbody>\n",
       "    <tr>\n",
       "      <th>0</th>\n",
       "      <td>1</td>\n",
       "      <td>HAL open science Open-Loop Control System for ...</td>\n",
       "      <td>This video is part of the HAL Open Science pro...</td>\n",
       "      <td>summarized_PIMM_JME_2024_HASCOET.csv</td>\n",
       "      <td>0.139586</td>\n",
       "      <td>0.426230</td>\n",
       "      <td>0.0</td>\n",
       "    </tr>\n",
       "    <tr>\n",
       "      <th>1</th>\n",
       "      <td>2</td>\n",
       "      <td>Javier Arduengo, Nicolas Hascoet, Francisco Ch...</td>\n",
       "      <td>Open-Loop Control System for High Precision Ex...</td>\n",
       "      <td>summarized_PIMM_JME_2024_HASCOET.csv</td>\n",
       "      <td>0.879812</td>\n",
       "      <td>0.290411</td>\n",
       "      <td>0.8</td>\n",
       "    </tr>\n",
       "    <tr>\n",
       "      <th>2</th>\n",
       "      <td>3</td>\n",
       "      <td>HAL Id: hal-04675399 https/halsclence/hal-0467...</td>\n",
       "      <td>The Historical Archive of France (HAL) is a</td>\n",
       "      <td>summarized_PIMM_JME_2024_HASCOET.csv</td>\n",
       "      <td>0.509045</td>\n",
       "      <td>0.265432</td>\n",
       "      <td>0.4</td>\n",
       "    </tr>\n",
       "    <tr>\n",
       "      <th>3</th>\n",
       "      <td>4</td>\n",
       "      <td>archive for the deposit and dissemination of s...</td>\n",
       "      <td>The aim of this project is to make available t...</td>\n",
       "      <td>summarized_PIMM_JME_2024_HASCOET.csv</td>\n",
       "      <td>0.514269</td>\n",
       "      <td>0.361656</td>\n",
       "      <td>0.0</td>\n",
       "    </tr>\n",
       "    <tr>\n",
       "      <th>4</th>\n",
       "      <td>5</td>\n",
       "      <td>Journal ofMachine Engineering, 2024, Vol. 24, ...</td>\n",
       "      <td>A new method for 3D bioprinting has been devel...</td>\n",
       "      <td>summarized_PIMM_JME_2024_HASCOET.csv</td>\n",
       "      <td>0.721535</td>\n",
       "      <td>0.204000</td>\n",
       "      <td>0.4</td>\n",
       "    </tr>\n",
       "    <tr>\n",
       "      <th>...</th>\n",
       "      <td>...</td>\n",
       "      <td>...</td>\n",
       "      <td>...</td>\n",
       "      <td>...</td>\n",
       "      <td>...</td>\n",
       "      <td>...</td>\n",
       "      <td>...</td>\n",
       "    </tr>\n",
       "    <tr>\n",
       "      <th>3173</th>\n",
       "      <td>374</td>\n",
       "      <td>linformation, puis la connaissance, c'est main...</td>\n",
       "      <td>C'est tre l'apporte de l'expertise d'tre partout,</td>\n",
       "      <td>summarized_122-SOUDOPLATOF_2018-02-16_web-1.csv</td>\n",
       "      <td>0.542804</td>\n",
       "      <td>0.126615</td>\n",
       "      <td>0.0</td>\n",
       "    </tr>\n",
       "    <tr>\n",
       "      <th>3174</th>\n",
       "      <td>375</td>\n",
       "      <td>Mais c'est potenticllement une très bonne nouv...</td>\n",
       "      <td>Les médias Les, appelés</td>\n",
       "      <td>summarized_122-SOUDOPLATOF_2018-02-16_web-1.csv</td>\n",
       "      <td>0.583791</td>\n",
       "      <td>0.172932</td>\n",
       "      <td>0.2</td>\n",
       "    </tr>\n",
       "    <tr>\n",
       "      <th>3175</th>\n",
       "      <td>376</td>\n",
       "      <td>fondapol.tu data.fondapo % fondapol.org a J tA...</td>\n",
       "      <td>fondapol.org - fondapol.</td>\n",
       "      <td>summarized_122-SOUDOPLATOF_2018-02-16_web-1.csv</td>\n",
       "      <td>0.650372</td>\n",
       "      <td>0.444444</td>\n",
       "      <td>0.2</td>\n",
       "    </tr>\n",
       "    <tr>\n",
       "      <th>3176</th>\n",
       "      <td>377</td>\n",
       "      <td>unevoix Ipérae,progressiste: ete européenne AN...</td>\n",
       "      <td>Une tte tte</td>\n",
       "      <td>summarized_122-SOUDOPLATOF_2018-02-16_web-1.csv</td>\n",
       "      <td>0.441566</td>\n",
       "      <td>0.103774</td>\n",
       "      <td>0.0</td>\n",
       "    </tr>\n",
       "    <tr>\n",
       "      <th>3177</th>\n",
       "      <td>378</td>\n",
       "      <td>in ISBN :978 2 36408 151 2 5€ 11, rue de Grene...</td>\n",
       "      <td>fondapo.fr is a French non-profit organisation</td>\n",
       "      <td>summarized_122-SOUDOPLATOF_2018-02-16_web-1.csv</td>\n",
       "      <td>0.512908</td>\n",
       "      <td>0.380165</td>\n",
       "      <td>0.2</td>\n",
       "    </tr>\n",
       "  </tbody>\n",
       "</table>\n",
       "<p>3178 rows × 7 columns</p>\n",
       "</div>"
      ],
      "text/plain": [
       "      Chunk Number                                Original Text Chunk  \\\n",
       "0                1  HAL open science Open-Loop Control System for ...   \n",
       "1                2  Javier Arduengo, Nicolas Hascoet, Francisco Ch...   \n",
       "2                3  HAL Id: hal-04675399 https/halsclence/hal-0467...   \n",
       "3                4  archive for the deposit and dissemination of s...   \n",
       "4                5  Journal ofMachine Engineering, 2024, Vol. 24, ...   \n",
       "...            ...                                                ...   \n",
       "3173           374  linformation, puis la connaissance, c'est main...   \n",
       "3174           375  Mais c'est potenticllement une très bonne nouv...   \n",
       "3175           376  fondapol.tu data.fondapo % fondapol.org a J tA...   \n",
       "3176           377  unevoix Ipérae,progressiste: ete européenne AN...   \n",
       "3177           378  in ISBN :978 2 36408 151 2 5€ 11, rue de Grene...   \n",
       "\n",
       "                                                Summary  \\\n",
       "0     This video is part of the HAL Open Science pro...   \n",
       "1     Open-Loop Control System for High Precision Ex...   \n",
       "2           The Historical Archive of France (HAL) is a   \n",
       "3     The aim of this project is to make available t...   \n",
       "4     A new method for 3D bioprinting has been devel...   \n",
       "...                                                 ...   \n",
       "3173  C'est tre l'apporte de l'expertise d'tre partout,   \n",
       "3174                            Les médias Les, appelés   \n",
       "3175                           fondapol.org - fondapol.   \n",
       "3176                                        Une tte tte   \n",
       "3177     fondapo.fr is a French non-profit organisation   \n",
       "\n",
       "                                          Source File  Semantic Similarity  \\\n",
       "0                summarized_PIMM_JME_2024_HASCOET.csv             0.139586   \n",
       "1                summarized_PIMM_JME_2024_HASCOET.csv             0.879812   \n",
       "2                summarized_PIMM_JME_2024_HASCOET.csv             0.509045   \n",
       "3                summarized_PIMM_JME_2024_HASCOET.csv             0.514269   \n",
       "4                summarized_PIMM_JME_2024_HASCOET.csv             0.721535   \n",
       "...                                               ...                  ...   \n",
       "3173  summarized_122-SOUDOPLATOF_2018-02-16_web-1.csv             0.542804   \n",
       "3174  summarized_122-SOUDOPLATOF_2018-02-16_web-1.csv             0.583791   \n",
       "3175  summarized_122-SOUDOPLATOF_2018-02-16_web-1.csv             0.650372   \n",
       "3176  summarized_122-SOUDOPLATOF_2018-02-16_web-1.csv             0.441566   \n",
       "3177  summarized_122-SOUDOPLATOF_2018-02-16_web-1.csv             0.512908   \n",
       "\n",
       "      Compression Ratio  Coverage  \n",
       "0              0.426230       0.0  \n",
       "1              0.290411       0.8  \n",
       "2              0.265432       0.4  \n",
       "3              0.361656       0.0  \n",
       "4              0.204000       0.4  \n",
       "...                 ...       ...  \n",
       "3173           0.126615       0.0  \n",
       "3174           0.172932       0.2  \n",
       "3175           0.444444       0.2  \n",
       "3176           0.103774       0.0  \n",
       "3177           0.380165       0.2  \n",
       "\n",
       "[3178 rows x 7 columns]"
      ]
     },
     "execution_count": 14,
     "metadata": {},
     "output_type": "execute_result"
    }
   ],
   "source": [
    "df"
   ]
  },
  {
   "cell_type": "markdown",
   "metadata": {},
   "source": [
    "# Criterias for good summaries "
   ]
  },
  {
   "cell_type": "markdown",
   "metadata": {},
   "source": [
    "Semantic Similarity:\n",
    "    High similarity scores (e.g., above 0.7) indicate that the summary retains the essence of the original text.\n",
    "\n",
    "Compression Ratio:\n",
    "    Ideal values are typically between 0.2 and 0.4 for a concise but informative summary.\n",
    "    \n",
    "Coverage:\n",
    "    Higher coverage values (e.g., above 0.5) suggest that key concepts are captured."
   ]
  },
  {
   "cell_type": "code",
   "execution_count": 1,
   "metadata": {},
   "outputs": [
    {
     "name": "stdout",
     "output_type": "stream",
     "text": [
      "Filtered 190 good summaries.\n"
     ]
    }
   ],
   "source": [
    "import pandas as pd \n",
    "\n",
    "df = pd.read_csv('/home/yassine/Textra-edu/summarization_with_coverage.csv')\n",
    "\n",
    "similarity_threshold = 0.7\n",
    "compression_lower = 0.2 \n",
    "compression_upper = 0.4\n",
    "coverage_threshold = 0.5 \n",
    "\n",
    "good_summaries = df[\n",
    "    (df['Semantic Similarity'] >= similarity_threshold) &\n",
    "    (df['Compression Ratio'] >= compression_lower) &\n",
    "    (df['Compression Ratio'] <= compression_upper) &\n",
    "    (df['Coverage'] >= coverage_threshold)\n",
    "]\n",
    "\n",
    "good_summaries.to_csv('/home/yassine/Textra-edu/good_summaries_filtered.csv', index=False)\n",
    "print(f\"Filtered {len(good_summaries)} good summaries.\")\n"
   ]
  },
  {
   "cell_type": "code",
   "execution_count": 2,
   "metadata": {},
   "outputs": [
    {
     "name": "stdout",
     "output_type": "stream",
     "text": [
      "       Semantic Similarity  Compression Ratio    Coverage\n",
      "count           190.000000         190.000000  190.000000\n",
      "mean              0.800794           0.285816    0.671053\n",
      "std               0.058981           0.054057    0.111881\n",
      "min               0.700943           0.200000    0.600000\n",
      "25%               0.753762           0.238722    0.600000\n",
      "50%               0.796014           0.282766    0.600000\n",
      "75%               0.853474           0.330686    0.800000\n",
      "max               0.923877           0.397297    1.000000\n"
     ]
    }
   ],
   "source": [
    "print(good_summaries[['Semantic Similarity', 'Compression Ratio', 'Coverage']].describe())\n"
   ]
  },
  {
   "cell_type": "code",
   "execution_count": 4,
   "metadata": {},
   "outputs": [
    {
     "data": {
      "image/png": "[encoded data removed]",
      "text/plain": [
       "<Figure size 640x480 with 1 Axes>"
      ]
     },
     "metadata": {},
     "output_type": "display_data"
    }
   ],
   "source": [
    "import matplotlib.pyplot as plt\n",
    "import seaborn as sns\n",
    "\n",
    "# Scatter plot: Semantic Similarity vs. Compression Ratio\n",
    "sns.scatterplot(data=good_summaries, x='Compression Ratio', y='Semantic Similarity', hue='Coverage')\n",
    "plt.title('Semantic Similarity vs. Compression Ratio')\n",
    "plt.show()\n"
   ]
  },
  {
   "cell_type": "markdown",
   "metadata": {},
   "source": [
    "\n",
    "\n",
    "\n",
    "High Semantic Similarity (above 0.7).\n",
    "\n",
    "Moderate Compression Ratio (e.g., 0.2–0.4).\n",
    "\n",
    "High Coverage (e.g., hue indicating values > 0.5).\n",
    "\n",
    "These are likely our best summaries."
   ]
  },
  {
   "cell_type": "code",
   "execution_count": null,
   "metadata": {},
   "outputs": [],
   "source": []
  }
 ],
 "metadata": {
  "kernelspec": {
   "display_name": "base",
   "language": "python",
   "name": "python3"
  },
  "language_info": {
   "codemirror_mode": {
    "name": "ipython",
    "version": 3
   },
   "file_extension": ".py",
   "mimetype": "text/x-python",
   "name": "python",
   "nbconvert_exporter": "python",
   "pygments_lexer": "ipython3",
   "version": "3.12.4"
  }
 },
 "nbformat": 4,
 "nbformat_minor": 2
}
